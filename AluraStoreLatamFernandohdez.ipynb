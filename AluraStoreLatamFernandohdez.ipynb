{
  "nbformat": 4,
  "nbformat_minor": 0,
  "metadata": {
    "colab": {
      "provenance": []
    },
    "kernelspec": {
      "name": "python3",
      "display_name": "Python 3"
    },
    "language_info": {
      "name": "python"
    }
  },
  "cells": [
    {
      "cell_type": "markdown",
      "source": [
        "### Importación de datos\n",
        "\n"
      ],
      "metadata": {
        "id": "RhEdWd9YUR6H"
      }
    },
    {
      "cell_type": "code",
      "execution_count": 26,
      "metadata": {
        "colab": {
          "base_uri": "https://localhost:8080/",
          "height": 310
        },
        "id": "T3EvaeQ_INIL",
        "outputId": "168aa70f-92a4-471d-a1c1-05cf98e41c8c"
      },
      "outputs": [
        {
          "output_type": "execute_result",
          "data": {
            "text/plain": [
              "            Producto Categoría del Producto    Precio  Costo de envío  \\\n",
              "0  Asistente virtual           Electrónicos  164300.0          6900.0   \n",
              "1    Mesa de comedor                Muebles  192300.0          8400.0   \n",
              "2      Juego de mesa               Juguetes  209600.0         15900.0   \n",
              "3         Microondas      Electrodomésticos  757500.0         41000.0   \n",
              "4   Silla de oficina                Muebles  335200.0         20200.0   \n",
              "\n",
              "  Fecha de Compra         Vendedor Lugar de Compra  Calificación  \\\n",
              "0      16/01/2021      Pedro Gomez          Bogotá             4   \n",
              "1      18/05/2022  Beatriz Morales        Medellín             1   \n",
              "2      15/03/2021   Juan Fernandez       Cartagena             1   \n",
              "3      03/05/2022   Juan Fernandez            Cali             4   \n",
              "4      07/11/2020    Maria Alfonso        Medellín             5   \n",
              "\n",
              "       Método de pago  Cantidad de cuotas       lat       lon  \n",
              "0  Tarjeta de crédito                   8   4.60971 -74.08175  \n",
              "1  Tarjeta de crédito                   4   6.25184 -75.56359  \n",
              "2  Tarjeta de crédito                   1  10.39972 -75.51444  \n",
              "3               Nequi                   1   3.43722 -76.52250  \n",
              "4               Nequi                   1   6.25184 -75.56359  "
            ],
            "text/html": [
              "\n",
              "  <div id=\"df-6b18b9b1-580a-44a3-95db-e145dc1d9521\" class=\"colab-df-container\">\n",
              "    <div>\n",
              "<style scoped>\n",
              "    .dataframe tbody tr th:only-of-type {\n",
              "        vertical-align: middle;\n",
              "    }\n",
              "\n",
              "    .dataframe tbody tr th {\n",
              "        vertical-align: top;\n",
              "    }\n",
              "\n",
              "    .dataframe thead th {\n",
              "        text-align: right;\n",
              "    }\n",
              "</style>\n",
              "<table border=\"1\" class=\"dataframe\">\n",
              "  <thead>\n",
              "    <tr style=\"text-align: right;\">\n",
              "      <th></th>\n",
              "      <th>Producto</th>\n",
              "      <th>Categoría del Producto</th>\n",
              "      <th>Precio</th>\n",
              "      <th>Costo de envío</th>\n",
              "      <th>Fecha de Compra</th>\n",
              "      <th>Vendedor</th>\n",
              "      <th>Lugar de Compra</th>\n",
              "      <th>Calificación</th>\n",
              "      <th>Método de pago</th>\n",
              "      <th>Cantidad de cuotas</th>\n",
              "      <th>lat</th>\n",
              "      <th>lon</th>\n",
              "    </tr>\n",
              "  </thead>\n",
              "  <tbody>\n",
              "    <tr>\n",
              "      <th>0</th>\n",
              "      <td>Asistente virtual</td>\n",
              "      <td>Electrónicos</td>\n",
              "      <td>164300.0</td>\n",
              "      <td>6900.0</td>\n",
              "      <td>16/01/2021</td>\n",
              "      <td>Pedro Gomez</td>\n",
              "      <td>Bogotá</td>\n",
              "      <td>4</td>\n",
              "      <td>Tarjeta de crédito</td>\n",
              "      <td>8</td>\n",
              "      <td>4.60971</td>\n",
              "      <td>-74.08175</td>\n",
              "    </tr>\n",
              "    <tr>\n",
              "      <th>1</th>\n",
              "      <td>Mesa de comedor</td>\n",
              "      <td>Muebles</td>\n",
              "      <td>192300.0</td>\n",
              "      <td>8400.0</td>\n",
              "      <td>18/05/2022</td>\n",
              "      <td>Beatriz Morales</td>\n",
              "      <td>Medellín</td>\n",
              "      <td>1</td>\n",
              "      <td>Tarjeta de crédito</td>\n",
              "      <td>4</td>\n",
              "      <td>6.25184</td>\n",
              "      <td>-75.56359</td>\n",
              "    </tr>\n",
              "    <tr>\n",
              "      <th>2</th>\n",
              "      <td>Juego de mesa</td>\n",
              "      <td>Juguetes</td>\n",
              "      <td>209600.0</td>\n",
              "      <td>15900.0</td>\n",
              "      <td>15/03/2021</td>\n",
              "      <td>Juan Fernandez</td>\n",
              "      <td>Cartagena</td>\n",
              "      <td>1</td>\n",
              "      <td>Tarjeta de crédito</td>\n",
              "      <td>1</td>\n",
              "      <td>10.39972</td>\n",
              "      <td>-75.51444</td>\n",
              "    </tr>\n",
              "    <tr>\n",
              "      <th>3</th>\n",
              "      <td>Microondas</td>\n",
              "      <td>Electrodomésticos</td>\n",
              "      <td>757500.0</td>\n",
              "      <td>41000.0</td>\n",
              "      <td>03/05/2022</td>\n",
              "      <td>Juan Fernandez</td>\n",
              "      <td>Cali</td>\n",
              "      <td>4</td>\n",
              "      <td>Nequi</td>\n",
              "      <td>1</td>\n",
              "      <td>3.43722</td>\n",
              "      <td>-76.52250</td>\n",
              "    </tr>\n",
              "    <tr>\n",
              "      <th>4</th>\n",
              "      <td>Silla de oficina</td>\n",
              "      <td>Muebles</td>\n",
              "      <td>335200.0</td>\n",
              "      <td>20200.0</td>\n",
              "      <td>07/11/2020</td>\n",
              "      <td>Maria Alfonso</td>\n",
              "      <td>Medellín</td>\n",
              "      <td>5</td>\n",
              "      <td>Nequi</td>\n",
              "      <td>1</td>\n",
              "      <td>6.25184</td>\n",
              "      <td>-75.56359</td>\n",
              "    </tr>\n",
              "  </tbody>\n",
              "</table>\n",
              "</div>\n",
              "    <div class=\"colab-df-buttons\">\n",
              "\n",
              "  <div class=\"colab-df-container\">\n",
              "    <button class=\"colab-df-convert\" onclick=\"convertToInteractive('df-6b18b9b1-580a-44a3-95db-e145dc1d9521')\"\n",
              "            title=\"Convert this dataframe to an interactive table.\"\n",
              "            style=\"display:none;\">\n",
              "\n",
              "  <svg xmlns=\"http://www.w3.org/2000/svg\" height=\"24px\" viewBox=\"0 -960 960 960\">\n",
              "    <path d=\"M120-120v-720h720v720H120Zm60-500h600v-160H180v160Zm220 220h160v-160H400v160Zm0 220h160v-160H400v160ZM180-400h160v-160H180v160Zm440 0h160v-160H620v160ZM180-180h160v-160H180v160Zm440 0h160v-160H620v160Z\"/>\n",
              "  </svg>\n",
              "    </button>\n",
              "\n",
              "  <style>\n",
              "    .colab-df-container {\n",
              "      display:flex;\n",
              "      gap: 12px;\n",
              "    }\n",
              "\n",
              "    .colab-df-convert {\n",
              "      background-color: #E8F0FE;\n",
              "      border: none;\n",
              "      border-radius: 50%;\n",
              "      cursor: pointer;\n",
              "      display: none;\n",
              "      fill: #1967D2;\n",
              "      height: 32px;\n",
              "      padding: 0 0 0 0;\n",
              "      width: 32px;\n",
              "    }\n",
              "\n",
              "    .colab-df-convert:hover {\n",
              "      background-color: #E2EBFA;\n",
              "      box-shadow: 0px 1px 2px rgba(60, 64, 67, 0.3), 0px 1px 3px 1px rgba(60, 64, 67, 0.15);\n",
              "      fill: #174EA6;\n",
              "    }\n",
              "\n",
              "    .colab-df-buttons div {\n",
              "      margin-bottom: 4px;\n",
              "    }\n",
              "\n",
              "    [theme=dark] .colab-df-convert {\n",
              "      background-color: #3B4455;\n",
              "      fill: #D2E3FC;\n",
              "    }\n",
              "\n",
              "    [theme=dark] .colab-df-convert:hover {\n",
              "      background-color: #434B5C;\n",
              "      box-shadow: 0px 1px 3px 1px rgba(0, 0, 0, 0.15);\n",
              "      filter: drop-shadow(0px 1px 2px rgba(0, 0, 0, 0.3));\n",
              "      fill: #FFFFFF;\n",
              "    }\n",
              "  </style>\n",
              "\n",
              "    <script>\n",
              "      const buttonEl =\n",
              "        document.querySelector('#df-6b18b9b1-580a-44a3-95db-e145dc1d9521 button.colab-df-convert');\n",
              "      buttonEl.style.display =\n",
              "        google.colab.kernel.accessAllowed ? 'block' : 'none';\n",
              "\n",
              "      async function convertToInteractive(key) {\n",
              "        const element = document.querySelector('#df-6b18b9b1-580a-44a3-95db-e145dc1d9521');\n",
              "        const dataTable =\n",
              "          await google.colab.kernel.invokeFunction('convertToInteractive',\n",
              "                                                    [key], {});\n",
              "        if (!dataTable) return;\n",
              "\n",
              "        const docLinkHtml = 'Like what you see? Visit the ' +\n",
              "          '<a target=\"_blank\" href=https://colab.research.google.com/notebooks/data_table.ipynb>data table notebook</a>'\n",
              "          + ' to learn more about interactive tables.';\n",
              "        element.innerHTML = '';\n",
              "        dataTable['output_type'] = 'display_data';\n",
              "        await google.colab.output.renderOutput(dataTable, element);\n",
              "        const docLink = document.createElement('div');\n",
              "        docLink.innerHTML = docLinkHtml;\n",
              "        element.appendChild(docLink);\n",
              "      }\n",
              "    </script>\n",
              "  </div>\n",
              "\n",
              "\n",
              "    <div id=\"df-a09a6a56-c165-428e-8ce7-625079e9e11e\">\n",
              "      <button class=\"colab-df-quickchart\" onclick=\"quickchart('df-a09a6a56-c165-428e-8ce7-625079e9e11e')\"\n",
              "                title=\"Suggest charts\"\n",
              "                style=\"display:none;\">\n",
              "\n",
              "<svg xmlns=\"http://www.w3.org/2000/svg\" height=\"24px\"viewBox=\"0 0 24 24\"\n",
              "     width=\"24px\">\n",
              "    <g>\n",
              "        <path d=\"M19 3H5c-1.1 0-2 .9-2 2v14c0 1.1.9 2 2 2h14c1.1 0 2-.9 2-2V5c0-1.1-.9-2-2-2zM9 17H7v-7h2v7zm4 0h-2V7h2v10zm4 0h-2v-4h2v4z\"/>\n",
              "    </g>\n",
              "</svg>\n",
              "      </button>\n",
              "\n",
              "<style>\n",
              "  .colab-df-quickchart {\n",
              "      --bg-color: #E8F0FE;\n",
              "      --fill-color: #1967D2;\n",
              "      --hover-bg-color: #E2EBFA;\n",
              "      --hover-fill-color: #174EA6;\n",
              "      --disabled-fill-color: #AAA;\n",
              "      --disabled-bg-color: #DDD;\n",
              "  }\n",
              "\n",
              "  [theme=dark] .colab-df-quickchart {\n",
              "      --bg-color: #3B4455;\n",
              "      --fill-color: #D2E3FC;\n",
              "      --hover-bg-color: #434B5C;\n",
              "      --hover-fill-color: #FFFFFF;\n",
              "      --disabled-bg-color: #3B4455;\n",
              "      --disabled-fill-color: #666;\n",
              "  }\n",
              "\n",
              "  .colab-df-quickchart {\n",
              "    background-color: var(--bg-color);\n",
              "    border: none;\n",
              "    border-radius: 50%;\n",
              "    cursor: pointer;\n",
              "    display: none;\n",
              "    fill: var(--fill-color);\n",
              "    height: 32px;\n",
              "    padding: 0;\n",
              "    width: 32px;\n",
              "  }\n",
              "\n",
              "  .colab-df-quickchart:hover {\n",
              "    background-color: var(--hover-bg-color);\n",
              "    box-shadow: 0 1px 2px rgba(60, 64, 67, 0.3), 0 1px 3px 1px rgba(60, 64, 67, 0.15);\n",
              "    fill: var(--button-hover-fill-color);\n",
              "  }\n",
              "\n",
              "  .colab-df-quickchart-complete:disabled,\n",
              "  .colab-df-quickchart-complete:disabled:hover {\n",
              "    background-color: var(--disabled-bg-color);\n",
              "    fill: var(--disabled-fill-color);\n",
              "    box-shadow: none;\n",
              "  }\n",
              "\n",
              "  .colab-df-spinner {\n",
              "    border: 2px solid var(--fill-color);\n",
              "    border-color: transparent;\n",
              "    border-bottom-color: var(--fill-color);\n",
              "    animation:\n",
              "      spin 1s steps(1) infinite;\n",
              "  }\n",
              "\n",
              "  @keyframes spin {\n",
              "    0% {\n",
              "      border-color: transparent;\n",
              "      border-bottom-color: var(--fill-color);\n",
              "      border-left-color: var(--fill-color);\n",
              "    }\n",
              "    20% {\n",
              "      border-color: transparent;\n",
              "      border-left-color: var(--fill-color);\n",
              "      border-top-color: var(--fill-color);\n",
              "    }\n",
              "    30% {\n",
              "      border-color: transparent;\n",
              "      border-left-color: var(--fill-color);\n",
              "      border-top-color: var(--fill-color);\n",
              "      border-right-color: var(--fill-color);\n",
              "    }\n",
              "    40% {\n",
              "      border-color: transparent;\n",
              "      border-right-color: var(--fill-color);\n",
              "      border-top-color: var(--fill-color);\n",
              "    }\n",
              "    60% {\n",
              "      border-color: transparent;\n",
              "      border-right-color: var(--fill-color);\n",
              "    }\n",
              "    80% {\n",
              "      border-color: transparent;\n",
              "      border-right-color: var(--fill-color);\n",
              "      border-bottom-color: var(--fill-color);\n",
              "    }\n",
              "    90% {\n",
              "      border-color: transparent;\n",
              "      border-bottom-color: var(--fill-color);\n",
              "    }\n",
              "  }\n",
              "</style>\n",
              "\n",
              "      <script>\n",
              "        async function quickchart(key) {\n",
              "          const quickchartButtonEl =\n",
              "            document.querySelector('#' + key + ' button');\n",
              "          quickchartButtonEl.disabled = true;  // To prevent multiple clicks.\n",
              "          quickchartButtonEl.classList.add('colab-df-spinner');\n",
              "          try {\n",
              "            const charts = await google.colab.kernel.invokeFunction(\n",
              "                'suggestCharts', [key], {});\n",
              "          } catch (error) {\n",
              "            console.error('Error during call to suggestCharts:', error);\n",
              "          }\n",
              "          quickchartButtonEl.classList.remove('colab-df-spinner');\n",
              "          quickchartButtonEl.classList.add('colab-df-quickchart-complete');\n",
              "        }\n",
              "        (() => {\n",
              "          let quickchartButtonEl =\n",
              "            document.querySelector('#df-a09a6a56-c165-428e-8ce7-625079e9e11e button');\n",
              "          quickchartButtonEl.style.display =\n",
              "            google.colab.kernel.accessAllowed ? 'block' : 'none';\n",
              "        })();\n",
              "      </script>\n",
              "    </div>\n",
              "\n",
              "    </div>\n",
              "  </div>\n"
            ],
            "application/vnd.google.colaboratory.intrinsic+json": {
              "type": "dataframe",
              "variable_name": "tienda",
              "summary": "{\n  \"name\": \"tienda\",\n  \"rows\": 2359,\n  \"fields\": [\n    {\n      \"column\": \"Producto\",\n      \"properties\": {\n        \"dtype\": \"category\",\n        \"num_unique_values\": 51,\n        \"samples\": [\n          \"Guitarra ac\\u00fastica\",\n          \"Bal\\u00f3n de baloncesto\",\n          \"Smartwatch\"\n        ],\n        \"semantic_type\": \"\",\n        \"description\": \"\"\n      }\n    },\n    {\n      \"column\": \"Categor\\u00eda del Producto\",\n      \"properties\": {\n        \"dtype\": \"category\",\n        \"num_unique_values\": 8,\n        \"samples\": [\n          \"Muebles\",\n          \"Deportes y diversi\\u00f3n\",\n          \"Electr\\u00f3nicos\"\n        ],\n        \"semantic_type\": \"\",\n        \"description\": \"\"\n      }\n    },\n    {\n      \"column\": \"Precio\",\n      \"properties\": {\n        \"dtype\": \"number\",\n        \"std\": 614686.7653873172,\n        \"min\": 7600.0,\n        \"max\": 2977000.0,\n        \"num_unique_values\": 1937,\n        \"samples\": [\n          2499400.0,\n          14800.0,\n          80500.0\n        ],\n        \"semantic_type\": \"\",\n        \"description\": \"\"\n      }\n    },\n    {\n      \"column\": \"Costo de env\\u00edo\",\n      \"properties\": {\n        \"dtype\": \"number\",\n        \"std\": 32860.0017825605,\n        \"min\": 0.0,\n        \"max\": 160800.0,\n        \"num_unique_values\": 753,\n        \"samples\": [\n          117800.0,\n          54700.0,\n          45600.0\n        ],\n        \"semantic_type\": \"\",\n        \"description\": \"\"\n      }\n    },\n    {\n      \"column\": \"Fecha de Compra\",\n      \"properties\": {\n        \"dtype\": \"object\",\n        \"num_unique_values\": 1018,\n        \"samples\": [\n          \"15/09/2022\",\n          \"03/06/2020\",\n          \"06/11/2021\"\n        ],\n        \"semantic_type\": \"\",\n        \"description\": \"\"\n      }\n    },\n    {\n      \"column\": \"Vendedor\",\n      \"properties\": {\n        \"dtype\": \"category\",\n        \"num_unique_values\": 14,\n        \"samples\": [\n          \"Juliana Costa\",\n          \"Mariana Herrera\",\n          \"Pedro Gomez\"\n        ],\n        \"semantic_type\": \"\",\n        \"description\": \"\"\n      }\n    },\n    {\n      \"column\": \"Lugar de Compra\",\n      \"properties\": {\n        \"dtype\": \"category\",\n        \"num_unique_values\": 19,\n        \"samples\": [\n          \"Bogot\\u00e1\",\n          \"Pereira\",\n          \"Neiva\"\n        ],\n        \"semantic_type\": \"\",\n        \"description\": \"\"\n      }\n    },\n    {\n      \"column\": \"Calificaci\\u00f3n\",\n      \"properties\": {\n        \"dtype\": \"number\",\n        \"std\": 1,\n        \"min\": 1,\n        \"max\": 5,\n        \"num_unique_values\": 5,\n        \"samples\": [\n          1,\n          2,\n          5\n        ],\n        \"semantic_type\": \"\",\n        \"description\": \"\"\n      }\n    },\n    {\n      \"column\": \"M\\u00e9todo de pago\",\n      \"properties\": {\n        \"dtype\": \"category\",\n        \"num_unique_values\": 4,\n        \"samples\": [\n          \"Nequi\",\n          \"Tarjeta de d\\u00e9bito\",\n          \"Tarjeta de cr\\u00e9dito\"\n        ],\n        \"semantic_type\": \"\",\n        \"description\": \"\"\n      }\n    },\n    {\n      \"column\": \"Cantidad de cuotas\",\n      \"properties\": {\n        \"dtype\": \"number\",\n        \"std\": 2,\n        \"min\": 1,\n        \"max\": 24,\n        \"num_unique_values\": 15,\n        \"samples\": [\n          7,\n          14,\n          8\n        ],\n        \"semantic_type\": \"\",\n        \"description\": \"\"\n      }\n    },\n    {\n      \"column\": \"lat\",\n      \"properties\": {\n        \"dtype\": \"number\",\n        \"std\": 2.2874452492678627,\n        \"min\": -4.21528,\n        \"max\": 11.54444,\n        \"num_unique_values\": 19,\n        \"samples\": [\n          4.60971,\n          4.81333,\n          2.9273\n        ],\n        \"semantic_type\": \"\",\n        \"description\": \"\"\n      }\n    },\n    {\n      \"column\": \"lon\",\n      \"properties\": {\n        \"dtype\": \"number\",\n        \"std\": 1.2178272727088486,\n        \"min\": -77.28111,\n        \"max\": -67.9239,\n        \"num_unique_values\": 19,\n        \"samples\": [\n          -74.08175,\n          -75.69611,\n          -75.28189\n        ],\n        \"semantic_type\": \"\",\n        \"description\": \"\"\n      }\n    }\n  ]\n}"
            }
          },
          "metadata": {},
          "execution_count": 26
        }
      ],
      "source": [
        "import pandas as pd\n",
        "\n",
        "url = \"https://raw.githubusercontent.com/alura-es-cursos/challenge1-data-science-latam/refs/heads/main/base-de-datos-challenge1-latam/tienda_1%20.csv\"\n",
        "url2 = \"https://raw.githubusercontent.com/alura-es-cursos/challenge1-data-science-latam/refs/heads/main/base-de-datos-challenge1-latam/tienda_2.csv\"\n",
        "url3 = \"https://raw.githubusercontent.com/alura-es-cursos/challenge1-data-science-latam/refs/heads/main/base-de-datos-challenge1-latam/tienda_3.csv\"\n",
        "url4 = \"https://raw.githubusercontent.com/alura-es-cursos/challenge1-data-science-latam/refs/heads/main/base-de-datos-challenge1-latam/tienda_4.csv\"\n",
        "\n",
        "tienda = pd.read_csv(url)\n",
        "tienda2 = pd.read_csv(url2)\n",
        "tienda3 = pd.read_csv(url3)\n",
        "tienda4 = pd.read_csv(url4)\n",
        "\n",
        "tienda.head()"
      ]
    },
    {
      "cell_type": "markdown",
      "source": [
        "#1. Análisis de facturación\n",
        "\n"
      ],
      "metadata": {
        "id": "X62IW3KFUIYm"
      }
    },
    {
      "cell_type": "code",
      "source": [
        "\n",
        "\n",
        "ingreso_total_tienda1 = tienda['Precio'].sum()\n",
        "ingreso_total_tienda2 = tienda2['Precio'].sum()\n",
        "ingreso_total_tienda3 = tienda3['Precio'].sum()\n",
        "ingreso_total_tienda4 = tienda4['Precio'].sum()\n",
        "\n",
        "print(f\"Ingreso total Tienda 1: {ingreso_total_tienda1}\")\n",
        "print(f\"Ingreso total Tienda 2: {ingreso_total_tienda2}\")\n",
        "print(f\"Ingreso total Tienda 3: {ingreso_total_tienda3}\")\n",
        "print(f\"Ingreso total Tienda 4: {ingreso_total_tienda4}\")"
      ],
      "metadata": {
        "id": "xykobSftV64I",
        "colab": {
          "base_uri": "https://localhost:8080/"
        },
        "outputId": "e66e3ca6-81c9-4e10-823c-e75ff7912a75"
      },
      "execution_count": 58,
      "outputs": [
        {
          "output_type": "stream",
          "name": "stdout",
          "text": [
            "Ingreso total Tienda 1: 1150880400.0\n",
            "Ingreso total Tienda 2: 1116343500.0\n",
            "Ingreso total Tienda 3: 1098019600.0\n",
            "Ingreso total Tienda 4: 1038375700.0\n"
          ]
        }
      ]
    },
    {
      "cell_type": "code",
      "source": [],
      "metadata": {
        "id": "KDyr8E71V3m-"
      },
      "execution_count": null,
      "outputs": []
    },
    {
      "cell_type": "markdown",
      "source": [
        "# 2. Ventas por categoría"
      ],
      "metadata": {
        "id": "2V_vcAPzWZmR"
      }
    },
    {
      "cell_type": "code",
      "source": [
        "ventas_por_categoria = tienda.groupby('Categoría del Producto')['Precio'].sum().sort_values(ascending=False)\n",
        "\n",
        "print(\"--- Ventas Totales por Categoría (las más populares primero) ---\")\n",
        "print(ventas_por_categoria)\n",
        "print(\"\\n\")"
      ],
      "metadata": {
        "id": "A34YupIuYhfF",
        "colab": {
          "base_uri": "https://localhost:8080/"
        },
        "outputId": "3cf7be15-86c6-4e2e-d550-d46d9cab06c0"
      },
      "execution_count": 28,
      "outputs": [
        {
          "output_type": "stream",
          "name": "stdout",
          "text": [
            "--- Ventas Totales por Categoría (las más populares primero) ---\n",
            "Categoría del Producto\n",
            "Electrónicos               429493500.0\n",
            "Electrodomésticos          363685200.0\n",
            "Muebles                    187633700.0\n",
            "Instrumentos musicales      91299000.0\n",
            "Deportes y diversión        39290000.0\n",
            "Juguetes                    17995700.0\n",
            "Artículos para el hogar     12698400.0\n",
            "Libros                       8784900.0\n",
            "Name: Precio, dtype: float64\n",
            "\n",
            "\n"
          ]
        }
      ]
    },
    {
      "cell_type": "code",
      "source": [],
      "metadata": {
        "id": "yZR6cOjXYSk1"
      },
      "execution_count": null,
      "outputs": []
    },
    {
      "cell_type": "markdown",
      "source": [
        "# 3. Calificación promedio de la tienda\n"
      ],
      "metadata": {
        "id": "Rq6tU_xSY3jk"
      }
    },
    {
      "cell_type": "code",
      "source": [
        "\n",
        "tienda_promedio = tienda['Calificación'].mean()\n",
        "tienda2_promedio = tienda2['Calificación'].mean()\n",
        "tienda3_promedio = tienda3['Calificación'].mean()\n",
        "tienda4_promedio = tienda4['Calificación'].mean()\n",
        "\n",
        "print(f\"Calificación promedio de la tienda 1: {tienda_promedio:.2f}\")\n",
        "print(f\"Calificación promedio de la tienda 2: {tienda2_promedio:.2f}\")\n",
        "print(f\"Calificación promedio de la tienda 3: {tienda3_promedio:.2f}\")\n",
        "print(f\"Calificación promedio de la tienda 4: {tienda4_promedio:.2f}\")"
      ],
      "metadata": {
        "id": "bh3jjjJwY5MU",
        "colab": {
          "base_uri": "https://localhost:8080/"
        },
        "outputId": "5beee671-1126-421c-e43b-735a1e49be3d"
      },
      "execution_count": 57,
      "outputs": [
        {
          "output_type": "stream",
          "name": "stdout",
          "text": [
            "Calificación promedio de la tienda 1: 3.98\n",
            "Calificación promedio de la tienda 2: 4.04\n",
            "Calificación promedio de la tienda 3: 4.05\n",
            "Calificación promedio de la tienda 4: 4.00\n"
          ]
        }
      ]
    },
    {
      "cell_type": "code",
      "source": [],
      "metadata": {
        "id": "I0KkjPoTY88F"
      },
      "execution_count": null,
      "outputs": []
    },
    {
      "cell_type": "markdown",
      "source": [
        "# 4. Productos más y menos vendidos"
      ],
      "metadata": {
        "id": "DmNp1KPBZCm-"
      }
    },
    {
      "cell_type": "code",
      "source": [
        "def analyze_product_sales(df, store_name):\n",
        "\n",
        "    product_sales = df.groupby('Producto')['Precio'].sum()\n",
        "\n",
        "\n",
        "    most_sold = product_sales.nlargest(5)\n",
        "    least_sold = product_sales.nsmallest(5)\n",
        "\n",
        "    print(f\"--- Productos Más Vendidos en {store_name} ---\")\n",
        "    print(most_sold)\n",
        "\n",
        "    print(f\"--- Productos Menos Vendidos en {store_name} ---\")\n",
        "    print(least_sold)\n",
        "\n",
        "analyze_product_sales(tienda, \"Tienda 1\")\n",
        "analyze_product_sales(tienda2, \"Tienda 2\")\n",
        "analyze_product_sales(tienda3, \"Tienda 3\")\n",
        "analyze_product_sales(tienda4, \"Tienda 4\")"
      ],
      "metadata": {
        "colab": {
          "base_uri": "https://localhost:8080/"
        },
        "id": "b9rE-jZGk1yT",
        "outputId": "7dfbf38d-39e6-4316-94fa-ac43a5f11f24"
      },
      "execution_count": 59,
      "outputs": [
        {
          "output_type": "stream",
          "name": "stdout",
          "text": [
            "--- Productos Más Vendidos en Tienda 1 ---\n",
            "Producto\n",
            "TV LED UHD 4K       142150200.0\n",
            "Refrigerador        112143300.0\n",
            "Iphone 15            97902200.0\n",
            "Smart TV             67452100.0\n",
            "Lavadora de ropa     65783600.0\n",
            "Name: Precio, dtype: float64\n",
            "--- Productos Menos Vendidos en Tienda 1 ---\n",
            "Producto\n",
            "Cuerda para saltar     652800.0\n",
            "Dinosaurio Rex         688900.0\n",
            "Cubo mágico 8x8        696900.0\n",
            "Set de vasos          1359100.0\n",
            "Ajedrez de madera     1430600.0\n",
            "Name: Precio, dtype: float64\n",
            "--- Productos Más Vendidos en Tienda 2 ---\n",
            "Producto\n",
            "Iphone 15           113225800.0\n",
            "TV LED UHD 4K       103375000.0\n",
            "Refrigerador         97632500.0\n",
            "Lavadora de ropa     66762300.0\n",
            "Smart TV             61142000.0\n",
            "Name: Precio, dtype: float64\n",
            "--- Productos Menos Vendidos en Tienda 2 ---\n",
            "Producto\n",
            "Cubo mágico 8x8        643600.0\n",
            "Dinosaurio Rex         770300.0\n",
            "Cuerda para saltar     856900.0\n",
            "Ajedrez de madera     1287700.0\n",
            "Set de vasos          1542600.0\n",
            "Name: Precio, dtype: float64\n",
            "--- Productos Más Vendidos en Tienda 3 ---\n",
            "Producto\n",
            "Refrigerador     99889700.0\n",
            "TV LED UHD 4K    96669100.0\n",
            "Iphone 15        93225700.0\n",
            "Smart TV         78837300.0\n",
            "Lavavajillas     64364800.0\n",
            "Name: Precio, dtype: float64\n",
            "--- Productos Menos Vendidos en Tienda 3 ---\n",
            "Producto\n",
            "Cubo mágico 8x8             640400.0\n",
            "Dinosaurio Rex              795600.0\n",
            "Cuerda para saltar          853800.0\n",
            "Set de vasos               1210700.0\n",
            "Bloques de construcción    1237200.0\n",
            "Name: Precio, dtype: float64\n",
            "--- Productos Más Vendidos en Tienda 4 ---\n",
            "Producto\n",
            "Iphone 15        96697500.0\n",
            "TV LED UHD 4K    90295300.0\n",
            "Smart TV         82790400.0\n",
            "Refrigerador     75271900.0\n",
            "Tablet ABXY      56723100.0\n",
            "Name: Precio, dtype: float64\n",
            "--- Productos Menos Vendidos en Tienda 4 ---\n",
            "Producto\n",
            "Cuerda para saltar     704800.0\n",
            "Cubo mágico 8x8        748400.0\n",
            "Dinosaurio Rex         858100.0\n",
            "Ajedrez de madera     1075500.0\n",
            "Set de vasos          1471800.0\n",
            "Name: Precio, dtype: float64\n"
          ]
        }
      ]
    },
    {
      "cell_type": "code",
      "source": [],
      "metadata": {
        "id": "0Sw3sd4IZIGW"
      },
      "execution_count": null,
      "outputs": []
    },
    {
      "cell_type": "markdown",
      "source": [
        "# 5. Envío promedio por tienda"
      ],
      "metadata": {
        "id": "Fl0cGi3bZKqU"
      }
    },
    {
      "cell_type": "code",
      "source": [
        "\n",
        "tienda_envio_promedio = tienda['Costo de envío'].mean()\n",
        "tienda2_envio_promedio = tienda2['Costo de envío'].mean()\n",
        "tienda3_envio_promedio = tienda3['Costo de envío'].mean()\n",
        "tienda4_envio_promedio = tienda4['Costo de envío'].mean()\n",
        "\n",
        "print(f\"Costo de envío promedio de la tienda 1: {tienda_envio_promedio:.2f}\")\n",
        "print(f\"Costo de envío promedio de la tienda 2: {tienda2_envio_promedio:.2f}\")\n",
        "print(f\"Costo de envío promedio de la tienda 3: {tienda3_envio_promedio:.2f}\")\n",
        "print(f\"Costo de envío promedio de la tienda 4: {tienda4_envio_promedio:.2f}\")"
      ],
      "metadata": {
        "id": "S2JeaCykZNy9",
        "colab": {
          "base_uri": "https://localhost:8080/"
        },
        "outputId": "90cbe709-479b-4eb2-d0e1-04a73bd71b30"
      },
      "execution_count": 31,
      "outputs": [
        {
          "output_type": "stream",
          "name": "stdout",
          "text": [
            "Costo de envío promedio de la tienda 1: 26018.61\n",
            "Costo de envío promedio de la tienda 2: 25216.24\n",
            "Costo de envío promedio de la tienda 3: 24805.68\n",
            "Costo de envío promedio de la tienda 4: 23459.46\n"
          ]
        }
      ]
    },
    {
      "cell_type": "markdown",
      "source": [],
      "metadata": {
        "id": "JMDS7OOPi8EO"
      }
    },
    {
      "cell_type": "markdown",
      "source": [
        "# 7.- Graficacion"
      ],
      "metadata": {
        "id": "Fy5WoJ2ki9hl"
      }
    },
    {
      "cell_type": "code",
      "source": [
        "\n",
        "import matplotlib.pyplot as plt\n",
        "\n",
        "ingresos_por_tienda = {\n",
        "    'Tienda 1': ingreso_total_tienda1,\n",
        "    'Tienda 2': ingreso_total_tienda2,\n",
        "    'Tienda 3': ingreso_total_tienda3,\n",
        "    'Tienda 4': ingreso_total_tienda4,\n",
        "}\n",
        "\n",
        "\n",
        "ingresos_ordenados = sorted(ingresos_por_tienda.items(), key=lambda item: item[1])\n",
        "\n",
        "\n",
        "nombres_tiendas = [item[0] for item in ingresos_ordenados]\n",
        "ingresos = [item[1] for item in ingresos_ordenados]\n",
        "\n",
        "\n",
        "plt.figure(figsize=(8, 6))\n",
        "plt.bar(nombres_tiendas, ingresos, color='skyblue')\n",
        "\n",
        "\n",
        "plt.xlabel('Tienda')\n",
        "plt.ylabel('Ingreso Total')\n",
        "plt.title('Ingreso Total por Tienda (Ordenado de Menor a Mayor)')\n",
        "plt.xticks(rotation=0)\n",
        "\n",
        "plt.tight_layout()\n",
        "plt.show()"
      ],
      "metadata": {
        "colab": {
          "base_uri": "https://localhost:8080/",
          "height": 607
        },
        "id": "cF-VLsqJlPpj",
        "outputId": "1ac33e3f-4277-4507-d7d5-e5f94ec3adbe"
      },
      "execution_count": 60,
      "outputs": [
        {
          "output_type": "display_data",
          "data": {
            "text/plain": [
              "<Figure size 800x600 with 1 Axes>"
            ],
            "image/png": "[encoded data removed]"
          },
          "metadata": {}
        }
      ]
    },
    {
      "cell_type": "code",
      "source": [
        "\n",
        "import pandas as pd\n",
        "import matplotlib.pyplot as plt\n",
        "\n",
        "all_tiendas = pd.concat([\n",
        "    tienda.assign(Tienda='Tienda 1'),\n",
        "    tienda2.assign(Tienda='Tienda 2'),\n",
        "    tienda3.assign(Tienda='Tienda 3'),\n",
        "    tienda4.assign(Tienda='Tienda 4')\n",
        "])\n",
        "\n",
        "\n",
        "average_ratings = all_tiendas.groupby('Tienda')['Calificación'].mean().reset_index()\n",
        "average_ratings_sorted = average_ratings.sort_values(by='Calificación', ascending=False)\n",
        "\n",
        "plt.figure(figsize=(10, 6))\n",
        "plt.scatter(average_ratings_sorted['Tienda'], average_ratings_sorted['Calificación'], s=100) # s is the size of the points\n",
        "\n",
        "plt.xlabel('Tienda')\n",
        "plt.ylabel('Calificación Promedio de Satisfacción del Cliente')\n",
        "plt.title('Calificación Promedio de Satisfacción del Cliente por Sucursal (Ordenado de Mayor a Menor)')\n",
        "plt.xticks(rotation=0)\n",
        "plt.grid(True)\n",
        "plt.tight_layout()\n",
        "plt.show()"
      ],
      "metadata": {
        "colab": {
          "base_uri": "https://localhost:8080/",
          "height": 607
        },
        "id": "9ySPjE44lzwO",
        "outputId": "b97630ad-9589-4ab2-c7ee-0acd9ea96a8f"
      },
      "execution_count": 61,
      "outputs": [
        {
          "output_type": "display_data",
          "data": {
            "text/plain": [
              "<Figure size 1000x600 with 1 Axes>"
            ],
            "image/png": "[encoded data removed]"
          },
          "metadata": {}
        }
      ]
    },
    {
      "cell_type": "code",
      "source": [
        "\n",
        "import matplotlib.pyplot as plt\n",
        "total_shipping_cost = all_tiendas.groupby('Tienda')['Costo de envío'].sum().reset_index()\n",
        "total_shipping_cost_sorted = total_shipping_cost.sort_values(by='Costo de envío', ascending=False)\n",
        "\n",
        "plt.figure(figsize=(10, 6))\n",
        "plt.barh(total_shipping_cost_sorted['Tienda'], total_shipping_cost_sorted['Costo de envío'], color='lightcoral')\n",
        "plt.xlabel('Costo Total de Envío')\n",
        "plt.ylabel('Tienda')\n",
        "plt.title('Costo Total de Envío por Tienda (Ordenado de Mayor a Menor)')\n",
        "plt.grid(axis='x')\n",
        "plt.tight_layout()\n",
        "plt.show()"
      ],
      "metadata": {
        "colab": {
          "base_uri": "https://localhost:8080/",
          "height": 607
        },
        "id": "ovQGaL6mnUMQ",
        "outputId": "8bef8332-3114-4214-873f-b38a050c27ac"
      },
      "execution_count": 62,
      "outputs": [
        {
          "output_type": "display_data",
          "data": {
            "text/plain": [
              "<Figure size 1000x600 with 1 Axes>"
            ],
            "image/png": "[encoded data removed]"
          },
          "metadata": {}
        }
      ]
    },
    {
      "cell_type": "code",
      "source": [
        "total_shipping_cost = all_tiendas.groupby('Tienda')['Costo de envío'].sum().reset_index()\n",
        "total_shipping_cost_sorted = total_shipping_cost.sort_values(by='Costo de envío', ascending=False)\n",
        "\n",
        "print(\"--- Costo Total de Envío por Tienda (Ordenado de Mayor a Menor) ---\")\n",
        "print(total_shipping_cost_sorted)\n",
        "print(\"\\n\")"
      ],
      "metadata": {
        "colab": {
          "base_uri": "https://localhost:8080/"
        },
        "id": "4Q_xDyQFpVA6",
        "outputId": "e1449074-4f93-4e8a-cb75-0554d84ded7b"
      },
      "execution_count": 49,
      "outputs": [
        {
          "output_type": "stream",
          "name": "stdout",
          "text": [
            "--- Costo Total de Envío por Tienda (Ordenado de Mayor a Menor) ---\n",
            "     Tienda  Costo de envío\n",
            "0  Tienda 1      61377900.0\n",
            "1  Tienda 2      59485100.0\n",
            "2  Tienda 3      58516600.0\n",
            "3  Tienda 4      55317400.0\n",
            "\n",
            "\n"
          ]
        }
      ]
    },
    {
      "cell_type": "code",
      "source": [
        "\n",
        "import pandas as pd\n",
        "total_revenue_per_store = all_tiendas.groupby('Tienda')['Precio'].sum().reset_index()\n",
        "total_shipping_cost_per_store = all_tiendas.groupby('Tienda')['Costo de envío'].sum().reset_index()\n",
        "\n",
        "contribution_margin = pd.merge(total_revenue_per_store, total_shipping_cost_per_store, on='Tienda')\n",
        "contribution_margin['Margen de Contribución'] = contribution_margin['Precio'] - contribution_margin['Costo de envío']\n",
        "contribution_margin['Margen de Contribución (%)'] = (contribution_margin['Margen de Contribución'] / contribution_margin['Precio']) * 100\n",
        "contribution_margin['Margen de Contribución (%)'] = contribution_margin['Margen de Contribución (%)'].fillna(0)\n",
        "contribution_margin_sorted = contribution_margin.sort_values(by='Margen de Contribución (%)', ascending=True)\n",
        "\n",
        "print(\"--- Margen de Contribución Total por Tienda (en porcentaje, ordenado de menor a mayor rendimiento) ---\")\n",
        "print(contribution_margin_sorted[['Tienda', 'Margen de Contribución (%)']].round(2))\n",
        "print(\"\\n\")"
      ],
      "metadata": {
        "colab": {
          "base_uri": "https://localhost:8080/"
        },
        "id": "X4cIQECo0-in",
        "outputId": "4b6a64d1-a96a-43d9-aab9-104bb6d41f16"
      },
      "execution_count": 51,
      "outputs": [
        {
          "output_type": "stream",
          "name": "stdout",
          "text": [
            "--- Margen de Contribución Total por Tienda (en porcentaje, ordenado de menor a mayor rendimiento) ---\n",
            "     Tienda  Margen de Contribución (%)\n",
            "0  Tienda 1                       94.67\n",
            "2  Tienda 3                       94.67\n",
            "1  Tienda 2                       94.67\n",
            "3  Tienda 4                       94.67\n",
            "\n",
            "\n"
          ]
        }
      ]
    },
    {
      "cell_type": "code",
      "source": [
        "# Se obtiene el porcentaje en que cada tienda participa en las utilidades netas\n",
        "\n",
        "import pandas as pd\n",
        "\n",
        "url = \"https://raw.githubusercontent.com/alura-es-cursos/challenge1-data-science-latam/refs/heads/main/base-de-datos-challenge1-latam/tienda_1%20.csv\"\n",
        "url2 = \"https://raw.githubusercontent.com/alura-es-cursos/challenge1-data-science-latam/refs/heads/main/base-de-datos-challenge1-latam/tienda_2.csv\"\n",
        "url3 = \"https://raw.githubusercontent.com/alura-es-cursos/challenge1-data-science-latam/refs/heads/main/base-de-datos-challenge1-latam/tienda_3.csv\"\n",
        "url4 = \"https://raw.githubusercontent.com/alura-es-cursos/challenge1-data-science-latam/refs/heads/main/base-de-datos-challenge1-latam/tienda_4.csv\"\n",
        "\n",
        "tienda = pd.read_csv(url)\n",
        "tienda2 = pd.read_csv(url2)\n",
        "tienda3 = pd.read_csv(url3)\n",
        "tienda4 = pd.read_csv(url4)\n",
        "\n",
        "\n",
        "# Margen de contribución total para cada tienda\n",
        "tienda['Margen_Contribucion'] = tienda['Precio'] - tienda['Costo de envío']\n",
        "tienda2['Margen_Contribucion'] = tienda2['Precio'] - tienda2['Costo de envío']\n",
        "tienda3['Margen_Contribucion'] = tienda3['Precio'] - tienda3['Costo de envío']\n",
        "tienda4['Margen_Contribucion'] = tienda4['Precio'] - tienda4['Costo de envío']\n",
        "\n",
        "# Total del margen de contribución por tienda\n",
        "total_margen_tienda1 = tienda['Margen_Contribucion'].sum()\n",
        "total_margen_tienda2 = tienda2['Margen_Contribucion'].sum()\n",
        "total_margen_tienda3 = tienda3['Margen_Contribucion'].sum()\n",
        "total_margen_tienda4 = tienda4['Margen_Contribucion'].sum()\n",
        "\n",
        "# Recalculo de total de ventas por tienda\n",
        "ingreso_total_tienda1 = tienda['Precio'].sum()\n",
        "ingreso_total_tienda2 = tienda2['Precio'].sum()\n",
        "ingreso_total_tienda3 = tienda3['Precio'].sum()\n",
        "ingreso_total_tienda4 = tienda4['Precio'].sum()\n",
        "\n",
        "\n",
        "# Promedio de margen de contribución total por tienda\n",
        "ratio_margen_tienda1 = total_margen_tienda1 / ingreso_total_tienda1\n",
        "ratio_margen_tienda2 = total_margen_tienda2 / ingreso_total_tienda2\n",
        "ratio_margen_tienda3 = total_margen_tienda3 / ingreso_total_tienda3\n",
        "ratio_margen_tienda4 = total_margen_tienda4 / ingreso_total_tienda4\n",
        "\n",
        "print(f\"Ratio de Margen de Contribución Tienda 1: {ratio_margen_tienda1:.2f}\")\n",
        "print(f\"Ratio de Margen de Contribución Tienda 2: {ratio_margen_tienda2:.2f}\")\n",
        "print(f\"Ratio de Margen de Contribución Tienda 3: {ratio_margen_tienda3:.2f}\")\n",
        "print(f\"Ratio de Margen de Contribución Tienda 4: {ratio_margen_tienda4:.2f}\")"
      ],
      "metadata": {
        "colab": {
          "base_uri": "https://localhost:8080/"
        },
        "id": "s78mZDrtsoi4",
        "outputId": "4b03f943-aa2d-4074-d3ad-b5cc42e6d378"
      },
      "execution_count": 63,
      "outputs": [
        {
          "output_type": "stream",
          "name": "stdout",
          "text": [
            "Ratio de Margen de Contribución Tienda 1: 0.95\n",
            "Ratio de Margen de Contribución Tienda 2: 0.95\n",
            "Ratio de Margen de Contribución Tienda 3: 0.95\n",
            "Ratio de Margen de Contribución Tienda 4: 0.95\n"
          ]
        }
      ]
    },
    {
      "cell_type": "markdown",
      "source": [
        "# INFORME FINAL"
      ],
      "metadata": {
        "id": "jszPmoNd2NMp"
      }
    },
    {
      "cell_type": "markdown",
      "source": [
        "**ingresos totales de las tiendas.**\n",
        "\n",
        "Ingreso total Tienda 1: 1150880400,0\n",
        "\n",
        "Ingreso total Tienda 2: 1116343500,0\n",
        "\n",
        "Ingreso total Tienda 3: 1098019600,0\n",
        "\n",
        "Ingreso total Tienda 4: 1038375700,0\n",
        "\n",
        "**categorías de productos más y menos vendidas.**\n",
        "\n",
        "categoria mas vendida: Electrónicos  429493500.0\n",
        "\n",
        "categoria menos vendida: Libros  8784900.0\n",
        "\n",
        "**Los productos más y menos vendidos.**\n",
        "\n",
        "Tienda 1\n",
        "Más Vendidos: TV LED UHD 4K 142150200.0\n",
        "Menos Vendidos: Cuerda para saltar 652800.0\n",
        "\n",
        "Tienda 2\n",
        "Más Vendidos: Iphone 15 - 113225800.0\n",
        "Menos Vendidos: Cubo mágico 8x8 - 643600.0\n",
        "\n",
        "Tienda 3\n",
        "Más Vendidos: Refrigerador     99889700.0\n",
        "Menos Vendidos: Cubo mágico 8x8 640400.0\n",
        "\n",
        "Tienda 4\n",
        "Más Vendidos: Iphone 15  96697500.0\n",
        "Menos Vendidos: Cuerda para saltar 704800.0\n",
        "\n",
        "**calificaciones promedio de los clientes por tienda.**\n",
        "\n",
        "Calificación promedio de la tienda 1: 3.98\n",
        "\n",
        "Calificación promedio de la tienda 2: 4.04\n",
        "\n",
        "Calificación promedio de la tienda 3: 4.05\n",
        "\n",
        "Calificación promedio de la tienda 4: 4.00\n",
        "\n",
        "**El coste de envío promedio para cada tienda.**\n",
        "\n",
        "Tienda 1:     61377900.0\n",
        "\n",
        "Tienda 2:     59485100.0\n",
        "\n",
        "Tienda 3:     58516600.0\n",
        "\n",
        "Tienda 4:     55317400.0\n",
        "\n",
        "**Conclusión**\n",
        "\n",
        "El informe arroja que a pesar de que hay sucursales que presentan mayor valor de ventas brutas, en proporcion al costo todas tienen un porcentaje del 5.33% de costos de ventas (costo de envio), por lo que la opcion a cerrar sería la **tienda 1** debido a otro factor a considerar: la calificacion de satisfaccion al cliente, siendo la antes mencionada la que peor promedio de calificacion tiene"
      ],
      "metadata": {
        "id": "cELEYxaa1oZe"
      }
    }
  ]
}